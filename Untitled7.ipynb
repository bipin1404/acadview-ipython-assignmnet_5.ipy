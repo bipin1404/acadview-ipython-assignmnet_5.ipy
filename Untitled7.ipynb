{
  "nbformat": 4,
  "nbformat_minor": 0,
  "metadata": {
    "colab": {
      "name": "Untitled7.ipynb",
      "version": "0.3.2",
      "provenance": []
    },
    "kernelspec": {
      "name": "python3",
      "display_name": "Python 3"
    }
  },
  "cells": [
    {
      "cell_type": "markdown",
      "metadata": {
        "id": "view-in-github",
        "colab_type": "text"
      },
      "source": [
        "[View in Colaboratory](https://colab.research.google.com/github/bipin1404/acadview-ipython-assignmnet_5.ipy/blob/master/Untitled7.ipynb)"
      ]
    },
    {
      "metadata": {
        "id": "mMbRLXD4Ipah",
        "colab_type": "text"
      },
      "cell_type": "markdown",
      "source": [
        "Question 1"
      ]
    },
    {
      "metadata": {
        "id": "uw_qsJv5Iv8X",
        "colab_type": "code",
        "colab": {
          "base_uri": "https://localhost:8080/",
          "height": 2312
        },
        "outputId": "d684bee6-7d10-4ef6-f7e7-d704934bd870"
      },
      "cell_type": "code",
      "source": [
        "import pandas as pd\n",
        "import numpy as np\n",
        "df=pd.read_csv(\"https://raw.githubusercontent.com/Shreyas3108/Weather/master/weather.csv\")\n",
        "a=pd.isnull(df.sum())\n",
        "print(a)\n",
        "#<A> sum of missing data\n",
        "print(df.isnull().sum())\n",
        "# <B> remove the missing value\n",
        "b=df.dropna()\n",
        "print(b.shape)\n",
        "# <C> import data set and remove null value with mean\n",
        "df1=pd.read_csv(\"https://raw.githubusercontent.com/Shreyas3108/Weather/master/weather.csv\")\n",
        "print(df1.fillna(0).head())\n",
        "print(df1.fillna(df1.mean).head())\n",
        "# <D> \n",
        "df1[['MinTemp']]==df1[['MinTemp']]\n",
        "print(df1.head())"
      ],
      "execution_count": 51,
      "outputs": [
        {
          "output_type": "stream",
          "text": [
            "Date             False\n",
            "Location         False\n",
            "MinTemp          False\n",
            "MaxTemp          False\n",
            "Rainfall         False\n",
            "Evaporation      False\n",
            "Sunshine         False\n",
            "WindGustSpeed    False\n",
            "WindSpeed9am     False\n",
            "WindSpeed3pm     False\n",
            "Humidity9am      False\n",
            "Humidity3pm      False\n",
            "Pressure9am      False\n",
            "Pressure3pm      False\n",
            "Cloud9am         False\n",
            "Cloud3pm         False\n",
            "Temp9am          False\n",
            "Temp3pm          False\n",
            "RainToday        False\n",
            "RISK_MM          False\n",
            "RainTomorrow     False\n",
            "dtype: bool\n",
            "Date              0\n",
            "Location          0\n",
            "MinTemp           0\n",
            "MaxTemp           0\n",
            "Rainfall          0\n",
            "Evaporation       0\n",
            "Sunshine          3\n",
            "WindGustDir       3\n",
            "WindGustSpeed     2\n",
            "WindDir9am       31\n",
            "WindDir3pm        1\n",
            "WindSpeed9am      7\n",
            "WindSpeed3pm      0\n",
            "Humidity9am       0\n",
            "Humidity3pm       0\n",
            "Pressure9am       0\n",
            "Pressure3pm       0\n",
            "Cloud9am          0\n",
            "Cloud3pm          0\n",
            "Temp9am           0\n",
            "Temp3pm           0\n",
            "RainToday         0\n",
            "RISK_MM           0\n",
            "RainTomorrow      0\n",
            "dtype: int64\n",
            "(328, 24)\n",
            "        Date  Location  MinTemp  MaxTemp  Rainfall  Evaporation  Sunshine  \\\n",
            "0  11/1/2007  Canberra      8.0     24.3       0.0          3.4       6.3   \n",
            "1  11/2/2007  Canberra     14.0     26.9       3.6          4.4       9.7   \n",
            "2  11/3/2007  Canberra     13.7     23.4       3.6          5.8       3.3   \n",
            "3  11/4/2007  Canberra     13.3     15.5      39.8          7.2       9.1   \n",
            "4  11/5/2007  Canberra      7.6     16.1       2.8          5.6      10.6   \n",
            "\n",
            "  WindGustDir  WindGustSpeed WindDir9am      ...      Humidity3pm  \\\n",
            "0          NW           30.0         SW      ...               29   \n",
            "1         ENE           39.0          E      ...               36   \n",
            "2          NW           85.0          N      ...               69   \n",
            "3          NW           54.0        WNW      ...               56   \n",
            "4         SSE           50.0        SSE      ...               49   \n",
            "\n",
            "   Pressure9am  Pressure3pm  Cloud9am  Cloud3pm  Temp9am  Temp3pm  RainToday  \\\n",
            "0       1019.7       1015.0         7         7     14.4     23.6         No   \n",
            "1       1012.4       1008.4         5         3     17.5     25.7        Yes   \n",
            "2       1009.5       1007.2         8         7     15.4     20.2        Yes   \n",
            "3       1005.5       1007.0         2         7     13.5     14.1        Yes   \n",
            "4       1018.3       1018.5         7         7     11.1     15.4        Yes   \n",
            "\n",
            "   RISK_MM  RainTomorrow  \n",
            "0      3.6           Yes  \n",
            "1      3.6           Yes  \n",
            "2     39.8           Yes  \n",
            "3      2.8           Yes  \n",
            "4      0.0            No  \n",
            "\n",
            "[5 rows x 24 columns]\n",
            "        Date  Location  MinTemp  MaxTemp  Rainfall  Evaporation Sunshine  \\\n",
            "0  11/1/2007  Canberra      8.0     24.3       0.0          3.4      6.3   \n",
            "1  11/2/2007  Canberra     14.0     26.9       3.6          4.4      9.7   \n",
            "2  11/3/2007  Canberra     13.7     23.4       3.6          5.8      3.3   \n",
            "3  11/4/2007  Canberra     13.3     15.5      39.8          7.2      9.1   \n",
            "4  11/5/2007  Canberra      7.6     16.1       2.8          5.6     10.6   \n",
            "\n",
            "  WindGustDir WindGustSpeed WindDir9am      ...      Humidity3pm Pressure9am  \\\n",
            "0          NW            30         SW      ...               29      1019.7   \n",
            "1         ENE            39          E      ...               36      1012.4   \n",
            "2          NW            85          N      ...               69      1009.5   \n",
            "3          NW            54        WNW      ...               56      1005.5   \n",
            "4         SSE            50        SSE      ...               49      1018.3   \n",
            "\n",
            "   Pressure3pm  Cloud9am  Cloud3pm  Temp9am  Temp3pm  RainToday  RISK_MM  \\\n",
            "0       1015.0         7         7     14.4     23.6         No      3.6   \n",
            "1       1008.4         5         3     17.5     25.7        Yes      3.6   \n",
            "2       1007.2         8         7     15.4     20.2        Yes     39.8   \n",
            "3       1007.0         2         7     13.5     14.1        Yes      2.8   \n",
            "4       1018.5         7         7     11.1     15.4        Yes      0.0   \n",
            "\n",
            "   RainTomorrow  \n",
            "0           Yes  \n",
            "1           Yes  \n",
            "2           Yes  \n",
            "3           Yes  \n",
            "4            No  \n",
            "\n",
            "[5 rows x 24 columns]\n",
            "        Date  Location  MinTemp  MaxTemp  Rainfall  Evaporation  Sunshine  \\\n",
            "0  11/1/2007  Canberra      8.0     24.3       0.0          3.4       6.3   \n",
            "1  11/2/2007  Canberra     14.0     26.9       3.6          4.4       9.7   \n",
            "2  11/3/2007  Canberra     13.7     23.4       3.6          5.8       3.3   \n",
            "3  11/4/2007  Canberra     13.3     15.5      39.8          7.2       9.1   \n",
            "4  11/5/2007  Canberra      7.6     16.1       2.8          5.6      10.6   \n",
            "\n",
            "  WindGustDir  WindGustSpeed WindDir9am      ...      Humidity3pm  \\\n",
            "0          NW           30.0         SW      ...               29   \n",
            "1         ENE           39.0          E      ...               36   \n",
            "2          NW           85.0          N      ...               69   \n",
            "3          NW           54.0        WNW      ...               56   \n",
            "4         SSE           50.0        SSE      ...               49   \n",
            "\n",
            "   Pressure9am  Pressure3pm  Cloud9am  Cloud3pm  Temp9am  Temp3pm  RainToday  \\\n",
            "0       1019.7       1015.0         7         7     14.4     23.6         No   \n",
            "1       1012.4       1008.4         5         3     17.5     25.7        Yes   \n",
            "2       1009.5       1007.2         8         7     15.4     20.2        Yes   \n",
            "3       1005.5       1007.0         2         7     13.5     14.1        Yes   \n",
            "4       1018.3       1018.5         7         7     11.1     15.4        Yes   \n",
            "\n",
            "   RISK_MM  RainTomorrow  \n",
            "0      3.6           Yes  \n",
            "1      3.6           Yes  \n",
            "2     39.8           Yes  \n",
            "3      2.8           Yes  \n",
            "4      0.0            No  \n",
            "\n",
            "[5 rows x 24 columns]\n"
          ],
          "name": "stdout"
        }
      ]
    },
    {
      "metadata": {
        "id": "o0KfV0WuKILw",
        "colab_type": "text"
      },
      "cell_type": "markdown",
      "source": [
        "Another question practice"
      ]
    },
    {
      "metadata": {
        "id": "MOKc-CRd_7uX",
        "colab_type": "code",
        "colab": {
          "base_uri": "https://localhost:8080/",
          "height": 323
        },
        "outputId": "4f774368-c26a-4c42-d2e2-338aaae0efea"
      },
      "cell_type": "code",
      "source": [
        "import pandas as pd\n",
        "import numpy as np\n",
        "d = {'Name':pd.Series(['Tom','James','Ricky','Vin','Steve','Smith','Jack']),\n",
        "   'Age':pd.Series([25,26,25,23,30,29,23]),\n",
        "   'Rating':pd.Series([4.23,3.24,3.98,2.56,3.20,4.6,3.8])}\n",
        "df=pd.DataFrame(d)\n",
        "print(df)\n",
        "print(df.T)\n",
        "print(df.ndim)\n",
        "print(\"sum of all colume\\n\",df.sum())\n"
      ],
      "execution_count": 4,
      "outputs": [
        {
          "output_type": "stream",
          "text": [
            "   Age   Name  Rating\n",
            "0   25    Tom    4.23\n",
            "1   26  James    3.24\n",
            "2   25  Ricky    3.98\n",
            "3   23    Vin    2.56\n",
            "4   30  Steve    3.20\n",
            "5   29  Smith    4.60\n",
            "6   23   Jack    3.80\n",
            "           0      1      2     3      4      5     6\n",
            "Age       25     26     25    23     30     29    23\n",
            "Name     Tom  James  Ricky   Vin  Steve  Smith  Jack\n",
            "Rating  4.23   3.24   3.98  2.56    3.2    4.6   3.8\n",
            "2\n",
            "sum of all colume\n",
            " Age                                  181\n",
            "Name      TomJamesRickyVinSteveSmithJack\n",
            "Rating                             25.61\n",
            "dtype: object\n"
          ],
          "name": "stdout"
        }
      ]
    },
    {
      "metadata": {
        "id": "cv2lDEhVCgSa",
        "colab_type": "code",
        "colab": {
          "base_uri": "https://localhost:8080/",
          "height": 221
        },
        "outputId": "cdbcff6d-be16-4caf-8c94-553a6ddb2291"
      },
      "cell_type": "code",
      "source": [
        "print(df.sum(1))\n",
        "print(df.sum(0))"
      ],
      "execution_count": 8,
      "outputs": [
        {
          "output_type": "stream",
          "text": [
            "0    29.23\n",
            "1    29.24\n",
            "2    28.98\n",
            "3    25.56\n",
            "4    33.20\n",
            "5    33.60\n",
            "6    26.80\n",
            "dtype: float64\n",
            "Age                                  181\n",
            "Name      TomJamesRickyVinSteveSmithJack\n",
            "Rating                             25.61\n",
            "dtype: object\n"
          ],
          "name": "stdout"
        }
      ]
    },
    {
      "metadata": {
        "id": "nz85tjQqCzI_",
        "colab_type": "code",
        "colab": {
          "base_uri": "https://localhost:8080/",
          "height": 323
        },
        "outputId": "49de85ef-f8f3-4940-88c0-cde8b4d57068"
      },
      "cell_type": "code",
      "source": [
        "print(df.mean())\n",
        "print(df.std())\n",
        "print(df.describe(include=\"all\"))"
      ],
      "execution_count": 12,
      "outputs": [
        {
          "output_type": "stream",
          "text": [
            "Age       25.857143\n",
            "Rating     3.658571\n",
            "dtype: float64\n",
            "Age       2.734262\n",
            "Rating    0.698628\n",
            "dtype: float64\n",
            "              Age Name    Rating\n",
            "count    7.000000    7  7.000000\n",
            "unique        NaN    7       NaN\n",
            "top           NaN  Vin       NaN\n",
            "freq          NaN    1       NaN\n",
            "mean    25.857143  NaN  3.658571\n",
            "std      2.734262  NaN  0.698628\n",
            "min     23.000000  NaN  2.560000\n",
            "25%     24.000000  NaN  3.220000\n",
            "50%     25.000000  NaN  3.800000\n",
            "75%     27.500000  NaN  4.105000\n",
            "max     30.000000  NaN  4.600000\n"
          ],
          "name": "stdout"
        }
      ]
    },
    {
      "metadata": {
        "id": "89VHbzNjExW0",
        "colab_type": "code",
        "colab": {
          "base_uri": "https://localhost:8080/",
          "height": 425
        },
        "outputId": "9ea053cc-96e2-433c-9c89-3a22a3cfe88a"
      },
      "cell_type": "code",
      "source": [
        "print(df.cov)\n",
        "print(df.isnull())\n",
        "print(df.notnull())\n"
      ],
      "execution_count": 21,
      "outputs": [
        {
          "output_type": "stream",
          "text": [
            "<bound method DataFrame.cov of    Age   Name  Rating\n",
            "0   25    Tom    4.23\n",
            "1   26  James    3.24\n",
            "2   25  Ricky    3.98\n",
            "3   23    Vin    2.56\n",
            "4   30  Steve    3.20\n",
            "5   29  Smith    4.60\n",
            "6   23   Jack    3.80>\n",
            "     Age   Name  Rating\n",
            "0  False  False   False\n",
            "1  False  False   False\n",
            "2  False  False   False\n",
            "3  False  False   False\n",
            "4  False  False   False\n",
            "5  False  False   False\n",
            "6  False  False   False\n",
            "    Age  Name  Rating\n",
            "0  True  True    True\n",
            "1  True  True    True\n",
            "2  True  True    True\n",
            "3  True  True    True\n",
            "4  True  True    True\n",
            "5  True  True    True\n",
            "6  True  True    True\n"
          ],
          "name": "stdout"
        }
      ]
    },
    {
      "metadata": {
        "id": "NXwh-A2MG2Cb",
        "colab_type": "code",
        "colab": {
          "base_uri": "https://localhost:8080/",
          "height": 289
        },
        "outputId": "2a1035ad-c479-4231-8672-cea7732f5457"
      },
      "cell_type": "code",
      "source": [
        "df = pd.DataFrame(np.random.randn(3, 3), index=['a', 'c', 'e'],columns=['one',\n",
        "'two', 'three'])\n",
        "df = df.reindex(['a', 'b', 'c'])\n",
        "print(df)\n",
        "print(df['one'].sum)\n",
        "print(df.fillna(0))\n",
        "print(df.dropna)"
      ],
      "execution_count": 27,
      "outputs": [
        {
          "output_type": "stream",
          "text": [
            "        one       two     three\n",
            "a -0.454206 -0.092696 -0.227730\n",
            "b       NaN       NaN       NaN\n",
            "c -0.029497 -0.583162 -0.828461\n",
            "<bound method Series.sum of a   -0.454206\n",
            "b         NaN\n",
            "c   -0.029497\n",
            "Name: one, dtype: float64>\n",
            "        one       two     three\n",
            "a -0.454206 -0.092696 -0.227730\n",
            "b  0.000000  0.000000  0.000000\n",
            "c -0.029497 -0.583162 -0.828461\n",
            "<bound method DataFrame.dropna of         one       two     three\n",
            "a -0.454206 -0.092696 -0.227730\n",
            "b       NaN       NaN       NaN\n",
            "c -0.029497 -0.583162 -0.828461>\n"
          ],
          "name": "stdout"
        }
      ]
    }
  ]
}